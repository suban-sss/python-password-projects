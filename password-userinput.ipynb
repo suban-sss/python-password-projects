{
 "cells": [
  {
   "cell_type": "code",
   "execution_count": null,
   "id": "3900401e",
   "metadata": {},
   "outputs": [
    {
     "name": "stdout",
     "output_type": "stream",
     "text": [
      "Generated password: MF$s:@*N*g\n",
      "password strength: 3\n",
      "PASSWORD STRENGTH: strong\n",
      "This password is strong and safe to use!!\n"
     ]
    }
   ],
   "source": [
    "## This script generates a random password and checks its strength using the zxcvbn library.\n",
    "#Random Password Generator with Strength Check\n",
    "\n",
    "import random #random is used to generate random numbers\n",
    "import string #this is used to generate random passwords\n",
    "from zxcvbn import zxcvbn #zxcvbn is used to check the strength of the password\n",
    "\n",
    "# This script generates a random password and checks its strength using the zxcvbn library.\n",
    "def pass_generator(length=10):\n",
    "    \"\"\"Generates a random password of a given length.\"\"\"\n",
    "    spec_char = string.ascii_letters + string.digits + string.punctuation # combines letters, digits, and punctuation\n",
    "    password = ''.join(random.choice(spec_char) for _ in range(length)) # this allows you to generate a random password of the specified length\n",
    "    return password\n",
    "\n",
    "#suggesting stronger passwords\n",
    "def sugg_pass(count=3, length=10):\n",
    "    suggestions = []\n",
    "    while len(suggestions) < count:\n",
    "        password = pass_generator(length)\n",
    "        if zxcvbn(password)['score'] > 2: # checks if the password strength is atleast 'better'\n",
    "            suggestions.append(password)\n",
    "    return suggestions\n",
    "\n",
    "password = pass_generator(10)\n",
    "strength = zxcvbn(password)\n",
    "\n",
    "#displaying the results\n",
    "print(\"Generated password:\", password)\n",
    "print(\"password strength:\", strength['score']) # this will return a score from 0 to 4, where 0 is very weak and 4 is very strong\n",
    "\n",
    "#defining the strength levels (optional)\n",
    "levels = [\"Very weak\", \"weak\", \"better\", \"strong\", \"very strong\"]\n",
    "print(\"PASSWORD STRENGTH:\", levels[strength['score']]) # this will return the strength level of the password based on the score\n",
    "\n",
    "# Checking the password strength and providing feedback\n",
    "if strength['score'] < 2:\n",
    "    print(\"\\n This password maybe weak or average\")\n",
    "    if strength['feedback']['warning']:\n",
    "        print(\"Feedback:\", strength['feedback']['warning']) # this will return the feedback for the password strength\n",
    "    if strength['feedback']['suggestions']:\n",
    "        print(\"Suggestions:\", \", \". join(strength['feedback']['suggestions']))  # this will return the suggestions for improving the password\n",
    "\n",
    "    print(\"\\n Here are some suggested passwords:\")\n",
    "    for i, suggestions in enumerate(sugg_pass(), 1):\n",
    "        print(f\"{i}, {suggestions}\")\n",
    "\n",
    "else:\n",
    "    print(\"This password is strong and safe to use!!\")"
   ]
  },
  {
   "cell_type": "code",
   "execution_count": null,
   "id": "392b79ee",
   "metadata": {},
   "outputs": [
    {
     "name": "stdout",
     "output_type": "stream",
     "text": [
      "\n",
      "🔒 PASSWORD STRENGTH: Strong - 3\n",
      "✅ This password is strong and safe to use!\n"
     ]
    }
   ],
   "source": [
    "#this script is used to help users input a strong password and also suggest stronger passwords if the input password is weak or average.\n",
    "#Inputting Password and Checking Strength\n",
    "\n",
    "import random  # random is used to generate random numbers\n",
    "import string  # used to generate random passwords\n",
    "from zxcvbn import zxcvbn  # zxcvbn checks password strength\n",
    "\n",
    "# Generates a random password of a given length\n",
    "def pass_generator(length=10):\n",
    "    spec_char = string.ascii_letters + string.digits + string.punctuation\n",
    "    return ''.join(random.choice(spec_char) for _ in range(length))\n",
    "\n",
    "# Suggests stronger passwords\n",
    "def sugg_pass(count=2, length=10, max_attempts=20):\n",
    "    suggestions = []\n",
    "    attempts = 0\n",
    "    while len(suggestions) < count:\n",
    "        password = pass_generator(length)\n",
    "        if zxcvbn(password)['score'] > 2:\n",
    "            suggestions.append(password)\n",
    "        attempts += 1\n",
    "    return suggestions\n",
    "\n",
    "# Taking user input\n",
    "while True:\n",
    "    user_pass = input(\"Enter your password (minimum 10 characters): \")\n",
    "    if len(user_pass) < 10:\n",
    "        print(\"❌ Password must be at least 10 characters long. Please try again.\")\n",
    "        continue\n",
    "    break  # only breaks if password length is valid\n",
    "\n",
    "# Analyze strength\n",
    "strength = zxcvbn(user_pass)\n",
    "levels = [\"Very weak\", \"Weak\", \"Better\", \"Strong\", \"Very strong\"]\n",
    "print(\"\\n🔒 PASSWORD STRENGTH:\", levels[strength['score']], \"-\", strength['score'])\n",
    "\n",
    "# Feedback and suggestions\n",
    "if strength['score'] < 2:\n",
    "    print(\"\\n⚠️ This password may be weak or average.\")\n",
    "    if strength['feedback']['warning']:\n",
    "        print(\"⚠️ Warning:\", strength['feedback']['warning'])\n",
    "    if strength['feedback']['suggestions']:\n",
    "        print(\"💡 Suggestions:\", \", \".join(strength['feedback']['suggestions']))\n",
    "\n",
    "    print(\"\\n🔐 Here are some suggested stronger passwords:\")\n",
    "    for i, suggestion in enumerate(sugg_pass(), 1):\n",
    "        print(f\"{i}. {suggestion}\")\n",
    "else:\n",
    "    print(\"✅ This password is strong and safe to use!\")\n"
   ]
  }
 ],
 "metadata": {
  "kernelspec": {
   "display_name": "Python 3",
   "language": "python",
   "name": "python3"
  },
  "language_info": {
   "codemirror_mode": {
    "name": "ipython",
    "version": 3
   },
   "file_extension": ".py",
   "mimetype": "text/x-python",
   "name": "python",
   "nbconvert_exporter": "python",
   "pygments_lexer": "ipython3",
   "version": "3.13.4"
  }
 },
 "nbformat": 4,
 "nbformat_minor": 5
}
